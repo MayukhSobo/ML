{
 "cells": [
  {
   "cell_type": "markdown",
   "metadata": {},
   "source": [
    "# Naive Bayes Implementation"
   ]
  },
  {
   "cell_type": "markdown",
   "metadata": {},
   "source": [
    "## Load the Dataset"
   ]
  },
  {
   "cell_type": "code",
   "execution_count": 1,
   "metadata": {
    "collapsed": true
   },
   "outputs": [],
   "source": [
    "import pandas as pd\n",
    "import numpy as np\n",
    "import math\n",
    "url = \"https://archive.ics.uci.edu/ml/machine-learning-databases/\"\n",
    "dataset = \"pima-indians-diabetes/pima-indians-diabetes.data\"\n",
    "columns = [\"pregnant-time\",\n",
    "           \"plasma-glucose\",\n",
    "           \"diastolic\",\n",
    "           \"triceps\",\n",
    "           \"insulin\",\n",
    "           \"BMI\",\n",
    "           \"DPF\",\n",
    "           \"Age\",\n",
    "           \"diabetic\"]\n",
    "diabetes = pd.read_csv(url + dataset, header=None,\n",
    "           names = columns)"
   ]
  },
  {
   "cell_type": "markdown",
   "metadata": {},
   "source": [
    "## Split the dataset for train and test"
   ]
  },
  {
   "cell_type": "code",
   "execution_count": 2,
   "metadata": {
    "collapsed": true
   },
   "outputs": [],
   "source": [
    "def split_data(dataset, split_ratio=0.7):\n",
    "    \"\"\" Split the data for training and testing\"\"\"\n",
    "    import random\n",
    "    size = len(dataset)\n",
    "    index = np.arange(size)\n",
    "    np.random.shuffle(index)\n",
    "    train_size = round(len(dataset) * split_ratio)\n",
    "    return diabetes.iloc[index[:train_size], :], diabetes.iloc[index[train_size:], :]"
   ]
  },
  {
   "cell_type": "code",
   "execution_count": 4,
   "metadata": {},
   "outputs": [],
   "source": [
    "train, test = split_data(diabetes)\n",
    "train.reset_index(inplace=True)\n",
    "test.reset_index(inplace=True)\n",
    "train = train.drop('index', axis=1)\n",
    "test = test.drop('index', axis=1)"
   ]
  },
  {
   "cell_type": "markdown",
   "metadata": {},
   "source": [
    "## Fitting the model"
   ]
  },
  {
   "cell_type": "code",
   "execution_count": 5,
   "metadata": {
    "collapsed": true
   },
   "outputs": [],
   "source": [
    "def fit(className):\n",
    "    from collections import defaultdict\n",
    "    summary_data = defaultdict(list)\n",
    "    for cols in columns[:-1]:\n",
    "        zero = []\n",
    "        one = []\n",
    "        zero.append(dict(train.groupby(className).describe().loc[:, cols].\n",
    "                                    loc[:, 'mean'])[0])\n",
    "        one.append(dict(train.groupby(className).describe().loc[:, cols].\n",
    "                                    loc[:, 'mean'])[1])\n",
    "        zero.append(dict(train.groupby(className).describe().loc[:, cols].\n",
    "                                    loc[:, 'std'])[0])\n",
    "        one.append(dict(train.groupby(className).describe().loc[:, cols].\n",
    "                                    loc[:, 'std'])[1])\n",
    "        summary_data[0].append(tuple(zero))\n",
    "        summary_data[1].append(tuple(one))\n",
    "    return summary_data"
   ]
  },
  {
   "cell_type": "code",
   "execution_count": 6,
   "metadata": {
    "collapsed": true
   },
   "outputs": [],
   "source": [
    "fitter = fit(\"diabetic\")"
   ]
  },
  {
   "cell_type": "markdown",
   "metadata": {},
   "source": [
    "## Splitting for features and response"
   ]
  },
  {
   "cell_type": "code",
   "execution_count": 7,
   "metadata": {
    "collapsed": true
   },
   "outputs": [],
   "source": [
    "test_features = test.iloc[:, :-1]\n",
    "actual_response = test.diabetic"
   ]
  },
  {
   "cell_type": "markdown",
   "metadata": {},
   "source": [
    "## Prediction and Accuracy"
   ]
  },
  {
   "cell_type": "code",
   "execution_count": 8,
   "metadata": {
    "collapsed": true,
    "scrolled": true
   },
   "outputs": [],
   "source": [
    "def gaussian_naive_bayes(x, mean, stdev):\n",
    "    exponent = math.exp(-(math.pow(x-mean,2)/(2*math.pow(stdev,2))))\n",
    "    return (1 / (math.sqrt(2*math.pi) * stdev)) * exponent\n",
    "\n",
    "def classify(row, fitter):\n",
    "    ret = {}\n",
    "    for klass, fit in fitter.items():\n",
    "        prob = 1 / len(fitter) # Prior Probability\n",
    "        for i, (mean, std) in enumerate(fit):\n",
    "            prob *= gaussian_naive_bayes(row[i], mean, std)\n",
    "        ret[klass] = prob\n",
    "    return ret\n",
    "\n",
    "def predict(fitter, test):\n",
    "    import operator\n",
    "    predictions = []\n",
    "    class_probs = test.apply(lambda x: classify(x, fitter), axis=1)\n",
    "    for each in class_probs:\n",
    "        predictions.append(max(each.items(), key=operator.itemgetter(1))[0])\n",
    "    return predictions\n",
    "\n",
    "def score_accuracy(pred, actual):\n",
    "    corr = 0\n",
    "    for a, b, in zip(pred, actual):\n",
    "        if a == b:\n",
    "            corr += 1\n",
    "    return round(corr / len(actual) * 100, 2)"
   ]
  },
  {
   "cell_type": "code",
   "execution_count": 9,
   "metadata": {},
   "outputs": [
    {
     "data": {
      "text/plain": [
       "73.91"
      ]
     },
     "execution_count": 9,
     "metadata": {},
     "output_type": "execute_result"
    }
   ],
   "source": [
    "pred = predict(fitter, test_features)\n",
    "score_accuracy(pred, actual_response)"
   ]
  },
  {
   "cell_type": "code",
   "execution_count": null,
   "metadata": {
    "collapsed": true
   },
   "outputs": [],
   "source": []
  }
 ],
 "metadata": {
  "kernelspec": {
   "display_name": "Python 3",
   "language": "python",
   "name": "python3"
  },
  "language_info": {
   "codemirror_mode": {
    "name": "ipython",
    "version": 3
   },
   "file_extension": ".py",
   "mimetype": "text/x-python",
   "name": "python",
   "nbconvert_exporter": "python",
   "pygments_lexer": "ipython3",
   "version": "3.6.1"
  }
 },
 "nbformat": 4,
 "nbformat_minor": 2
}
