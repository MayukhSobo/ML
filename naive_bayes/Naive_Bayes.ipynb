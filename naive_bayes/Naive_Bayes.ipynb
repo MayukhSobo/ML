{
 "cells": [
  {
   "cell_type": "markdown",
   "metadata": {
    "collapsed": true
   },
   "source": [
    "# Load the Dataset"
   ]
  },
  {
   "cell_type": "code",
   "execution_count": 12,
   "metadata": {
    "collapsed": true
   },
   "outputs": [],
   "source": [
    "import pandas as pd\n",
    "import numpy as np\n",
    "import random\n",
    "iris = pd.read_csv(\"https://archive.ics.uci.edu/ml/machine-learning-databases/iris/iris.data\", \n",
    "            header=None,\n",
    "            names = ['sepal_length', \n",
    "                     'sepal_width', \n",
    "                     'petal_length', \n",
    "                     'petal_width', \n",
    "                     'species'])"
   ]
  },
  {
   "cell_type": "code",
   "execution_count": 13,
   "metadata": {
    "collapsed": true
   },
   "outputs": [],
   "source": [
    "## Definitions of classifying classes\n",
    "classes = list(pd.unique(iris.species))\n",
    "numClasses = len(classes)"
   ]
  },
  {
   "cell_type": "markdown",
   "metadata": {},
   "source": [
    "## Extracting the Feature Matrix"
   ]
  },
  {
   "cell_type": "code",
   "execution_count": 14,
   "metadata": {
    "collapsed": true
   },
   "outputs": [],
   "source": [
    "X = np.matrix(iris.iloc[:, 0:4])\n",
    "X = X.astype(np.float)\n",
    "m, n = X.shape"
   ]
  },
  {
   "cell_type": "markdown",
   "metadata": {},
   "source": [
    "## Extracting the response"
   ]
  },
  {
   "cell_type": "code",
   "execution_count": 15,
   "metadata": {
    "collapsed": true
   },
   "outputs": [],
   "source": [
    "y = np.asarray(iris.species)"
   ]
  },
  {
   "cell_type": "markdown",
   "metadata": {},
   "source": [
    "## Extracting features for different classes"
   ]
  },
  {
   "cell_type": "code",
   "execution_count": 16,
   "metadata": {
    "collapsed": true
   },
   "outputs": [],
   "source": [
    "CLS = []\n",
    "for each in classes:\n",
    "    CLS.append(np.matrix(iris[iris.species == each].iloc[:, 0:4]))"
   ]
  },
  {
   "cell_type": "code",
   "execution_count": 17,
   "metadata": {},
   "outputs": [
    {
     "data": {
      "text/plain": [
       "3"
      ]
     },
     "execution_count": 17,
     "metadata": {},
     "output_type": "execute_result"
    }
   ],
   "source": [
    "len(CLS)"
   ]
  },
  {
   "cell_type": "markdown",
   "metadata": {},
   "source": [
    "## The real meat"
   ]
  },
  {
   "cell_type": "markdown",
   "metadata": {},
   "source": [
    "#### Calculating the mean and variance of each features for each class"
   ]
  },
  {
   "cell_type": "code",
   "execution_count": 18,
   "metadata": {
    "collapsed": true
   },
   "outputs": [],
   "source": [
    "pArray = []\n",
    "def calculate_mean_and_variance(CLS, n, numClasses):\n",
    "    for i in range(numClasses):\n",
    "        pArray.append([])\n",
    "        for x in range(n):\n",
    "            mean = np.mean(CLS[i][:, x])\n",
    "            var = np.var(CLS[i][:, x])\n",
    "            pArray[i].append([mean, var])"
   ]
  },
  {
   "cell_type": "code",
   "execution_count": 19,
   "metadata": {
    "collapsed": true
   },
   "outputs": [],
   "source": [
    "calculate_mean_and_variance(CLS, n, numClasses)"
   ]
  },
  {
   "cell_type": "markdown",
   "metadata": {
    "collapsed": true
   },
   "source": [
    "#### Choosing training dataset (Random Choosing)"
   ]
  },
  {
   "cell_type": "code",
   "execution_count": 39,
   "metadata": {},
   "outputs": [],
   "source": [
    "# Choosing 70% of the dataset for training Randomly\n",
    "random_index = random.sample(range(m), int(m * 0.7))"
   ]
  },
  {
   "cell_type": "code",
   "execution_count": 59,
   "metadata": {},
   "outputs": [
    {
     "name": "stdout",
     "output_type": "stream",
     "text": [
      "[[5.0060000000000002, 0.12176400000000002], [3.4180000000000001, 0.14227600000000001], [1.464, 0.029504000000000002], [0.24399999999999999, 0.011264000000000003]]\n",
      "\n",
      "[[5.9359999999999999, 0.261104], [2.7700000000000005, 0.096500000000000016], [4.2599999999999998, 0.21640000000000004], [1.3259999999999998, 0.038323999999999997]]\n",
      "\n",
      "[[6.5879999999999983, 0.39625600000000011], [2.9740000000000002, 0.10192399999999999], [5.5520000000000005, 0.29849600000000004], [2.0260000000000002, 0.07392399999999999]]\n",
      "\n"
     ]
    }
   ],
   "source": [
    "for each in pArray:\n",
    "    print(each, end='\\n\\n')"
   ]
  },
  {
   "cell_type": "markdown",
   "metadata": {},
   "source": [
    "#### Creating the actual Baysean Classifier"
   ]
  },
  {
   "cell_type": "code",
   "execution_count": 61,
   "metadata": {},
   "outputs": [],
   "source": [
    "def classify_baysean():\n",
    "    correct_predictions = 0\n",
    "    for index in random_index:\n",
    "        result = []\n",
    "        x = X[index, :]\n",
    "        for eachClass in range(numClasses):\n",
    "            result.append([])\n",
    "            prior = 1 / numClasses\n",
    "            \n",
    "            # For sepal_length\n",
    "            prosterior_feature_1 = probability(pArray[index][0][0], \n",
    "                                               pArray[index][0][1], \n",
    "                                               x[0])\n",
    "            # For sepal_width\n",
    "            prosterior_feature_2 = probability(pArray[index][1][0],\n",
    "                                              pArray[index][1][1],\n",
    "                                              x[1])\n",
    "            # For petal_length\n",
    "            prosterior_feature_3 = probability(pArray[index][2][0],\n",
    "                                              pArray[index][2][1],\n",
    "                                              x[2])\n",
    "            # For petal_width\n",
    "            prosterior_feature_4 = probability(pArray[index][3][0],\n",
    "                                              pArray[index][3][1],\n",
    "                                              x[3])\n",
    "            joint = prosterior_feature_1 * prosterior_feature_2 * \\\n",
    "            prosterior_feature_3 * prosterior_feature_4 * prior\n",
    "            result[index].append(joint)\n",
    "        print(result[index])"
   ]
  },
  {
   "cell_type": "code",
   "execution_count": 62,
   "metadata": {},
   "outputs": [
    {
     "ename": "NameError",
     "evalue": "name 'probability' is not defined",
     "output_type": "error",
     "traceback": [
      "\u001b[0;31m---------------------------------------------------------------------------\u001b[0m",
      "\u001b[0;31mNameError\u001b[0m                                 Traceback (most recent call last)",
      "\u001b[0;32m<ipython-input-62-fe7ee69e01c6>\u001b[0m in \u001b[0;36m<module>\u001b[0;34m()\u001b[0m\n\u001b[0;32m----> 1\u001b[0;31m \u001b[0mclassify_baysean\u001b[0m\u001b[0;34m(\u001b[0m\u001b[0;34m)\u001b[0m\u001b[0;34m\u001b[0m\u001b[0m\n\u001b[0m",
      "\u001b[0;32m<ipython-input-61-4fb648b17505>\u001b[0m in \u001b[0;36mclassify_baysean\u001b[0;34m()\u001b[0m\n\u001b[1;32m      9\u001b[0m \u001b[0;34m\u001b[0m\u001b[0m\n\u001b[1;32m     10\u001b[0m             \u001b[0;31m# For sepal_length\u001b[0m\u001b[0;34m\u001b[0m\u001b[0;34m\u001b[0m\u001b[0m\n\u001b[0;32m---> 11\u001b[0;31m             prosterior_feature_1 = probability(pArray[index][0][0], \n\u001b[0m\u001b[1;32m     12\u001b[0m                                                \u001b[0mpArray\u001b[0m\u001b[0;34m[\u001b[0m\u001b[0mindex\u001b[0m\u001b[0;34m]\u001b[0m\u001b[0;34m[\u001b[0m\u001b[0;36m0\u001b[0m\u001b[0;34m]\u001b[0m\u001b[0;34m[\u001b[0m\u001b[0;36m1\u001b[0m\u001b[0;34m]\u001b[0m\u001b[0;34m,\u001b[0m\u001b[0;34m\u001b[0m\u001b[0m\n\u001b[1;32m     13\u001b[0m                                                x[0])\n",
      "\u001b[0;31mNameError\u001b[0m: name 'probability' is not defined"
     ]
    }
   ],
   "source": [
    "classify_baysean()"
   ]
  },
  {
   "cell_type": "code",
   "execution_count": null,
   "metadata": {
    "collapsed": true
   },
   "outputs": [],
   "source": []
  }
 ],
 "metadata": {
  "kernelspec": {
   "display_name": "Python 3",
   "language": "python",
   "name": "python3"
  },
  "language_info": {
   "codemirror_mode": {
    "name": "ipython",
    "version": 3
   },
   "file_extension": ".py",
   "mimetype": "text/x-python",
   "name": "python",
   "nbconvert_exporter": "python",
   "pygments_lexer": "ipython3",
   "version": "3.6.1"
  }
 },
 "nbformat": 4,
 "nbformat_minor": 2
}
