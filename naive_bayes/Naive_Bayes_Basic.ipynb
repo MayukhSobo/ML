{
 "cells": [
  {
   "cell_type": "markdown",
   "metadata": {
    "collapsed": true
   },
   "source": [
    "# Load the Dataset"
   ]
  },
  {
   "cell_type": "code",
   "execution_count": 1,
   "metadata": {
    "collapsed": true
   },
   "outputs": [],
   "source": [
    "import pandas as pd\n",
    "import numpy as np\n",
    "import random\n",
    "url = \"https://archive.ics.uci.edu/ml/machine-learning-databases/iris/iris.data\"\n",
    "iris = pd.read_csv(url, \n",
    "            header=None,\n",
    "            names = ['sepal_length', \n",
    "                     'sepal_width', \n",
    "                     'petal_length', \n",
    "                     'petal_width', \n",
    "                     'species'])"
   ]
  },
  {
   "cell_type": "code",
   "execution_count": 65,
   "metadata": {
    "collapsed": true
   },
   "outputs": [],
   "source": [
    "## Definitions of classifying classes\n",
    "classes = list(pd.unique(iris.species))\n",
    "numClasses = len(classes)"
   ]
  },
  {
   "cell_type": "markdown",
   "metadata": {},
   "source": [
    "## Extracting the Feature Matrix"
   ]
  },
  {
   "cell_type": "code",
   "execution_count": 66,
   "metadata": {
    "collapsed": true
   },
   "outputs": [],
   "source": [
    "X = np.matrix(iris.iloc[:, 0:4])\n",
    "X = X.astype(np.float)\n",
    "m, n = X.shape"
   ]
  },
  {
   "cell_type": "markdown",
   "metadata": {},
   "source": [
    "## Extracting the response"
   ]
  },
  {
   "cell_type": "code",
   "execution_count": 67,
   "metadata": {
    "collapsed": true
   },
   "outputs": [],
   "source": [
    "y = np.asarray(iris.species)"
   ]
  },
  {
   "cell_type": "markdown",
   "metadata": {},
   "source": [
    "## Extracting features for different classes"
   ]
  },
  {
   "cell_type": "code",
   "execution_count": 68,
   "metadata": {
    "collapsed": true
   },
   "outputs": [],
   "source": [
    "CLS = []\n",
    "for each in classes:\n",
    "    CLS.append(np.matrix(iris[iris.species == each].iloc[:, 0:4]))"
   ]
  },
  {
   "cell_type": "code",
   "execution_count": 69,
   "metadata": {},
   "outputs": [
    {
     "data": {
      "text/plain": [
       "3"
      ]
     },
     "execution_count": 69,
     "metadata": {},
     "output_type": "execute_result"
    }
   ],
   "source": [
    "len(CLS)"
   ]
  },
  {
   "cell_type": "markdown",
   "metadata": {},
   "source": [
    "## The real meat"
   ]
  },
  {
   "cell_type": "markdown",
   "metadata": {},
   "source": [
    "#### Calculating the mean and variance of each features for each class"
   ]
  },
  {
   "cell_type": "code",
   "execution_count": 70,
   "metadata": {
    "collapsed": true
   },
   "outputs": [],
   "source": [
    "pArray = []\n",
    "def calculate_mean_and_variance(CLS, n, numClasses):\n",
    "    for i in range(numClasses):\n",
    "        pArray.append([])\n",
    "        for x in range(n):\n",
    "            mean = np.mean(CLS[i][:, x])\n",
    "            var = np.var(CLS[i][:, x])\n",
    "            pArray[i].append([mean, var])"
   ]
  },
  {
   "cell_type": "code",
   "execution_count": 71,
   "metadata": {},
   "outputs": [
    {
     "name": "stdout",
     "output_type": "stream",
     "text": [
      "[[5.0060000000000002, 0.12176400000000002], [3.4180000000000001, 0.14227600000000001], [1.464, 0.029504000000000002], [0.24399999999999999, 0.011264000000000003]]\n",
      "\n",
      "[[5.9359999999999999, 0.261104], [2.7700000000000005, 0.096500000000000016], [4.2599999999999998, 0.21640000000000004], [1.3259999999999998, 0.038323999999999997]]\n",
      "\n",
      "[[6.5879999999999983, 0.39625600000000011], [2.9740000000000002, 0.10192399999999999], [5.5520000000000005, 0.29849600000000004], [2.0260000000000002, 0.07392399999999999]]\n",
      "\n"
     ]
    }
   ],
   "source": [
    "calculate_mean_and_variance(CLS, n, numClasses)\n",
    "for each in pArray:\n",
    "    print(each, end='\\n\\n')"
   ]
  },
  {
   "cell_type": "markdown",
   "metadata": {
    "collapsed": true
   },
   "source": [
    "#### Choosing training dataset (Random Choosing)"
   ]
  },
  {
   "cell_type": "code",
   "execution_count": 72,
   "metadata": {
    "collapsed": true
   },
   "outputs": [],
   "source": [
    "# Choosing 70% of the dataset for training Randomly\n",
    "random_index = random.sample(range(m), int(m * 0.7))"
   ]
  },
  {
   "cell_type": "code",
   "execution_count": null,
   "metadata": {
    "collapsed": true
   },
   "outputs": [],
   "source": [
    "def probability(mean, stdev, x):\n",
    "    "
   ]
  },
  {
   "cell_type": "markdown",
   "metadata": {},
   "source": [
    "#### Creating the actual Baysean Classifier"
   ]
  },
  {
   "cell_type": "code",
   "execution_count": 61,
   "metadata": {
    "collapsed": true
   },
   "outputs": [],
   "source": [
    "def classify_baysean():\n",
    "    correct_predictions = 0\n",
    "    for index in random_index:\n",
    "        result = []\n",
    "        x = X[index, :]\n",
    "        for eachClass in range(numClasses):\n",
    "            result.append([])\n",
    "            prior = 1 / numClasses\n",
    "            \n",
    "            # For sepal_length\n",
    "            prosterior_feature_1 = probability(pArray[index][0][0], \n",
    "                                               pArray[index][0][1], \n",
    "                                               x[0])\n",
    "            # For sepal_width\n",
    "            prosterior_feature_2 = probability(pArray[index][1][0],\n",
    "                                              pArray[index][1][1],\n",
    "                                              x[1])\n",
    "            # For petal_length\n",
    "            prosterior_feature_3 = probability(pArray[index][2][0],\n",
    "                                              pArray[index][2][1],\n",
    "                                              x[2])\n",
    "            # For petal_width\n",
    "            prosterior_feature_4 = probability(pArray[index][3][0],\n",
    "                                              pArray[index][3][1],\n",
    "                                              x[3])\n",
    "            joint = prosterior_feature_1 * prosterior_feature_2 * \\\n",
    "            prosterior_feature_3 * prosterior_feature_4 * prior\n",
    "            result[index].append(joint)\n",
    "        print(result[index])"
   ]
  },
  {
   "cell_type": "code",
   "execution_count": 62,
   "metadata": {},
   "outputs": [
    {
     "ename": "NameError",
     "evalue": "name 'probability' is not defined",
     "output_type": "error",
     "traceback": [
      "\u001b[0;31m---------------------------------------------------------------------------\u001b[0m",
      "\u001b[0;31mNameError\u001b[0m                                 Traceback (most recent call last)",
      "\u001b[0;32m<ipython-input-62-fe7ee69e01c6>\u001b[0m in \u001b[0;36m<module>\u001b[0;34m()\u001b[0m\n\u001b[0;32m----> 1\u001b[0;31m \u001b[0mclassify_baysean\u001b[0m\u001b[0;34m(\u001b[0m\u001b[0;34m)\u001b[0m\u001b[0;34m\u001b[0m\u001b[0m\n\u001b[0m",
      "\u001b[0;32m<ipython-input-61-4fb648b17505>\u001b[0m in \u001b[0;36mclassify_baysean\u001b[0;34m()\u001b[0m\n\u001b[1;32m      9\u001b[0m \u001b[0;34m\u001b[0m\u001b[0m\n\u001b[1;32m     10\u001b[0m             \u001b[0;31m# For sepal_length\u001b[0m\u001b[0;34m\u001b[0m\u001b[0;34m\u001b[0m\u001b[0m\n\u001b[0;32m---> 11\u001b[0;31m             prosterior_feature_1 = probability(pArray[index][0][0], \n\u001b[0m\u001b[1;32m     12\u001b[0m                                                \u001b[0mpArray\u001b[0m\u001b[0;34m[\u001b[0m\u001b[0mindex\u001b[0m\u001b[0;34m]\u001b[0m\u001b[0;34m[\u001b[0m\u001b[0;36m0\u001b[0m\u001b[0;34m]\u001b[0m\u001b[0;34m[\u001b[0m\u001b[0;36m1\u001b[0m\u001b[0;34m]\u001b[0m\u001b[0;34m,\u001b[0m\u001b[0;34m\u001b[0m\u001b[0m\n\u001b[1;32m     13\u001b[0m                                                x[0])\n",
      "\u001b[0;31mNameError\u001b[0m: name 'probability' is not defined"
     ]
    }
   ],
   "source": [
    "classify_baysean()"
   ]
  },
  {
   "cell_type": "code",
   "execution_count": 98,
   "metadata": {
    "collapsed": true
   },
   "outputs": [],
   "source": [
    "x = X[49,:][:, 0]"
   ]
  },
  {
   "cell_type": "code",
   "execution_count": 99,
   "metadata": {},
   "outputs": [
    {
     "data": {
      "text/plain": [
       "matrix([[ 5.]])"
      ]
     },
     "execution_count": 99,
     "metadata": {},
     "output_type": "execute_result"
    }
   ],
   "source": [
    "x"
   ]
  },
  {
   "cell_type": "code",
   "execution_count": 100,
   "metadata": {
    "collapsed": true
   },
   "outputs": [],
   "source": [
    "import math"
   ]
  },
  {
   "cell_type": "code",
   "execution_count": 102,
   "metadata": {
    "collapsed": true
   },
   "outputs": [],
   "source": [
    "mean = pArray[0][0][0]\n",
    "stdev = pArray[0][0][1]\n",
    "exponent = math.exp(-(math.pow(x-mean,2)/(2*stdev)))"
   ]
  },
  {
   "cell_type": "code",
   "execution_count": 103,
   "metadata": {},
   "outputs": [
    {
     "data": {
      "text/plain": [
       "0.99985218398194"
      ]
     },
     "execution_count": 103,
     "metadata": {},
     "output_type": "execute_result"
    }
   ],
   "source": [
    "exponent"
   ]
  },
  {
   "cell_type": "code",
   "execution_count": 3,
   "metadata": {
    "collapsed": true
   },
   "outputs": [],
   "source": [
    "a = [[1, 2, 3, 4], [5, 6, 7, 8]]"
   ]
  },
  {
   "cell_type": "code",
   "execution_count": 5,
   "metadata": {},
   "outputs": [
    {
     "name": "stdout",
     "output_type": "stream",
     "text": [
      "(1, 5)\n",
      "(2, 6)\n",
      "(3, 7)\n",
      "(4, 8)\n"
     ]
    }
   ],
   "source": [
    "for attribute in zip(*a):\n",
    "    print(attribute)"
   ]
  },
  {
   "cell_type": "code",
   "execution_count": 6,
   "metadata": {
    "collapsed": true
   },
   "outputs": [],
   "source": [
    "df = pd.DataFrame(np.random.randn(100, 2))"
   ]
  },
  {
   "cell_type": "code",
   "execution_count": 7,
   "metadata": {},
   "outputs": [
    {
     "data": {
      "text/html": [
       "<div>\n",
       "<style>\n",
       "    .dataframe thead tr:only-child th {\n",
       "        text-align: right;\n",
       "    }\n",
       "\n",
       "    .dataframe thead th {\n",
       "        text-align: left;\n",
       "    }\n",
       "\n",
       "    .dataframe tbody tr th {\n",
       "        vertical-align: top;\n",
       "    }\n",
       "</style>\n",
       "<table border=\"1\" class=\"dataframe\">\n",
       "  <thead>\n",
       "    <tr style=\"text-align: right;\">\n",
       "      <th></th>\n",
       "      <th>0</th>\n",
       "      <th>1</th>\n",
       "    </tr>\n",
       "  </thead>\n",
       "  <tbody>\n",
       "    <tr>\n",
       "      <th>0</th>\n",
       "      <td>0.891914</td>\n",
       "      <td>-0.957444</td>\n",
       "    </tr>\n",
       "    <tr>\n",
       "      <th>1</th>\n",
       "      <td>0.500691</td>\n",
       "      <td>-2.259443</td>\n",
       "    </tr>\n",
       "    <tr>\n",
       "      <th>2</th>\n",
       "      <td>-2.719203</td>\n",
       "      <td>0.123332</td>\n",
       "    </tr>\n",
       "    <tr>\n",
       "      <th>3</th>\n",
       "      <td>-0.910284</td>\n",
       "      <td>2.364859</td>\n",
       "    </tr>\n",
       "    <tr>\n",
       "      <th>4</th>\n",
       "      <td>1.375659</td>\n",
       "      <td>-0.455953</td>\n",
       "    </tr>\n",
       "    <tr>\n",
       "      <th>5</th>\n",
       "      <td>-0.661848</td>\n",
       "      <td>-0.877416</td>\n",
       "    </tr>\n",
       "    <tr>\n",
       "      <th>6</th>\n",
       "      <td>0.368729</td>\n",
       "      <td>-0.536522</td>\n",
       "    </tr>\n",
       "    <tr>\n",
       "      <th>7</th>\n",
       "      <td>0.866648</td>\n",
       "      <td>2.182499</td>\n",
       "    </tr>\n",
       "    <tr>\n",
       "      <th>8</th>\n",
       "      <td>-0.522822</td>\n",
       "      <td>-0.570511</td>\n",
       "    </tr>\n",
       "    <tr>\n",
       "      <th>9</th>\n",
       "      <td>-0.206031</td>\n",
       "      <td>0.648060</td>\n",
       "    </tr>\n",
       "    <tr>\n",
       "      <th>10</th>\n",
       "      <td>1.213100</td>\n",
       "      <td>-0.710189</td>\n",
       "    </tr>\n",
       "    <tr>\n",
       "      <th>11</th>\n",
       "      <td>-0.761086</td>\n",
       "      <td>-0.422410</td>\n",
       "    </tr>\n",
       "    <tr>\n",
       "      <th>12</th>\n",
       "      <td>0.164639</td>\n",
       "      <td>-1.004728</td>\n",
       "    </tr>\n",
       "    <tr>\n",
       "      <th>13</th>\n",
       "      <td>1.169840</td>\n",
       "      <td>1.035104</td>\n",
       "    </tr>\n",
       "    <tr>\n",
       "      <th>14</th>\n",
       "      <td>0.074590</td>\n",
       "      <td>-1.401222</td>\n",
       "    </tr>\n",
       "    <tr>\n",
       "      <th>15</th>\n",
       "      <td>0.552037</td>\n",
       "      <td>-0.047192</td>\n",
       "    </tr>\n",
       "    <tr>\n",
       "      <th>16</th>\n",
       "      <td>0.783914</td>\n",
       "      <td>-1.125556</td>\n",
       "    </tr>\n",
       "    <tr>\n",
       "      <th>17</th>\n",
       "      <td>-0.184240</td>\n",
       "      <td>0.193157</td>\n",
       "    </tr>\n",
       "    <tr>\n",
       "      <th>18</th>\n",
       "      <td>0.970510</td>\n",
       "      <td>-0.051371</td>\n",
       "    </tr>\n",
       "    <tr>\n",
       "      <th>19</th>\n",
       "      <td>-0.367723</td>\n",
       "      <td>-0.021025</td>\n",
       "    </tr>\n",
       "    <tr>\n",
       "      <th>20</th>\n",
       "      <td>-0.883345</td>\n",
       "      <td>0.116409</td>\n",
       "    </tr>\n",
       "    <tr>\n",
       "      <th>21</th>\n",
       "      <td>0.992421</td>\n",
       "      <td>-0.792637</td>\n",
       "    </tr>\n",
       "    <tr>\n",
       "      <th>22</th>\n",
       "      <td>1.426434</td>\n",
       "      <td>-0.679730</td>\n",
       "    </tr>\n",
       "    <tr>\n",
       "      <th>23</th>\n",
       "      <td>-0.790068</td>\n",
       "      <td>-0.157665</td>\n",
       "    </tr>\n",
       "    <tr>\n",
       "      <th>24</th>\n",
       "      <td>-1.543924</td>\n",
       "      <td>-0.793718</td>\n",
       "    </tr>\n",
       "    <tr>\n",
       "      <th>25</th>\n",
       "      <td>0.835844</td>\n",
       "      <td>1.307662</td>\n",
       "    </tr>\n",
       "    <tr>\n",
       "      <th>26</th>\n",
       "      <td>0.487385</td>\n",
       "      <td>0.544462</td>\n",
       "    </tr>\n",
       "    <tr>\n",
       "      <th>27</th>\n",
       "      <td>0.404973</td>\n",
       "      <td>1.030814</td>\n",
       "    </tr>\n",
       "    <tr>\n",
       "      <th>28</th>\n",
       "      <td>-0.224405</td>\n",
       "      <td>0.357701</td>\n",
       "    </tr>\n",
       "    <tr>\n",
       "      <th>29</th>\n",
       "      <td>-0.447075</td>\n",
       "      <td>1.836367</td>\n",
       "    </tr>\n",
       "    <tr>\n",
       "      <th>...</th>\n",
       "      <td>...</td>\n",
       "      <td>...</td>\n",
       "    </tr>\n",
       "    <tr>\n",
       "      <th>70</th>\n",
       "      <td>1.338269</td>\n",
       "      <td>1.484710</td>\n",
       "    </tr>\n",
       "    <tr>\n",
       "      <th>71</th>\n",
       "      <td>-0.883285</td>\n",
       "      <td>-0.141153</td>\n",
       "    </tr>\n",
       "    <tr>\n",
       "      <th>72</th>\n",
       "      <td>-0.447681</td>\n",
       "      <td>-1.758202</td>\n",
       "    </tr>\n",
       "    <tr>\n",
       "      <th>73</th>\n",
       "      <td>-1.228454</td>\n",
       "      <td>-0.646145</td>\n",
       "    </tr>\n",
       "    <tr>\n",
       "      <th>74</th>\n",
       "      <td>0.178335</td>\n",
       "      <td>1.158356</td>\n",
       "    </tr>\n",
       "    <tr>\n",
       "      <th>75</th>\n",
       "      <td>1.665174</td>\n",
       "      <td>-1.576035</td>\n",
       "    </tr>\n",
       "    <tr>\n",
       "      <th>76</th>\n",
       "      <td>0.460147</td>\n",
       "      <td>-2.488727</td>\n",
       "    </tr>\n",
       "    <tr>\n",
       "      <th>77</th>\n",
       "      <td>-0.123505</td>\n",
       "      <td>-0.366446</td>\n",
       "    </tr>\n",
       "    <tr>\n",
       "      <th>78</th>\n",
       "      <td>-3.887232</td>\n",
       "      <td>-0.489308</td>\n",
       "    </tr>\n",
       "    <tr>\n",
       "      <th>79</th>\n",
       "      <td>-0.360444</td>\n",
       "      <td>0.832431</td>\n",
       "    </tr>\n",
       "    <tr>\n",
       "      <th>80</th>\n",
       "      <td>-0.864867</td>\n",
       "      <td>-0.857648</td>\n",
       "    </tr>\n",
       "    <tr>\n",
       "      <th>81</th>\n",
       "      <td>1.424193</td>\n",
       "      <td>0.708941</td>\n",
       "    </tr>\n",
       "    <tr>\n",
       "      <th>82</th>\n",
       "      <td>-0.346798</td>\n",
       "      <td>-1.091791</td>\n",
       "    </tr>\n",
       "    <tr>\n",
       "      <th>83</th>\n",
       "      <td>0.926461</td>\n",
       "      <td>-0.442008</td>\n",
       "    </tr>\n",
       "    <tr>\n",
       "      <th>84</th>\n",
       "      <td>0.333903</td>\n",
       "      <td>-0.042515</td>\n",
       "    </tr>\n",
       "    <tr>\n",
       "      <th>85</th>\n",
       "      <td>0.125269</td>\n",
       "      <td>-1.311858</td>\n",
       "    </tr>\n",
       "    <tr>\n",
       "      <th>86</th>\n",
       "      <td>1.099426</td>\n",
       "      <td>-0.602258</td>\n",
       "    </tr>\n",
       "    <tr>\n",
       "      <th>87</th>\n",
       "      <td>-1.046655</td>\n",
       "      <td>-2.135608</td>\n",
       "    </tr>\n",
       "    <tr>\n",
       "      <th>88</th>\n",
       "      <td>-0.807969</td>\n",
       "      <td>-0.389795</td>\n",
       "    </tr>\n",
       "    <tr>\n",
       "      <th>89</th>\n",
       "      <td>-1.418035</td>\n",
       "      <td>1.539792</td>\n",
       "    </tr>\n",
       "    <tr>\n",
       "      <th>90</th>\n",
       "      <td>-0.288480</td>\n",
       "      <td>0.749006</td>\n",
       "    </tr>\n",
       "    <tr>\n",
       "      <th>91</th>\n",
       "      <td>2.043575</td>\n",
       "      <td>-0.269924</td>\n",
       "    </tr>\n",
       "    <tr>\n",
       "      <th>92</th>\n",
       "      <td>-1.179398</td>\n",
       "      <td>-0.496812</td>\n",
       "    </tr>\n",
       "    <tr>\n",
       "      <th>93</th>\n",
       "      <td>0.471483</td>\n",
       "      <td>-0.220843</td>\n",
       "    </tr>\n",
       "    <tr>\n",
       "      <th>94</th>\n",
       "      <td>-0.615731</td>\n",
       "      <td>-0.656167</td>\n",
       "    </tr>\n",
       "    <tr>\n",
       "      <th>95</th>\n",
       "      <td>-0.641456</td>\n",
       "      <td>0.852312</td>\n",
       "    </tr>\n",
       "    <tr>\n",
       "      <th>96</th>\n",
       "      <td>0.155349</td>\n",
       "      <td>0.041979</td>\n",
       "    </tr>\n",
       "    <tr>\n",
       "      <th>97</th>\n",
       "      <td>-0.780068</td>\n",
       "      <td>1.888171</td>\n",
       "    </tr>\n",
       "    <tr>\n",
       "      <th>98</th>\n",
       "      <td>0.673478</td>\n",
       "      <td>-0.573956</td>\n",
       "    </tr>\n",
       "    <tr>\n",
       "      <th>99</th>\n",
       "      <td>-0.887921</td>\n",
       "      <td>0.640687</td>\n",
       "    </tr>\n",
       "  </tbody>\n",
       "</table>\n",
       "<p>100 rows × 2 columns</p>\n",
       "</div>"
      ],
      "text/plain": [
       "           0         1\n",
       "0   0.891914 -0.957444\n",
       "1   0.500691 -2.259443\n",
       "2  -2.719203  0.123332\n",
       "3  -0.910284  2.364859\n",
       "4   1.375659 -0.455953\n",
       "5  -0.661848 -0.877416\n",
       "6   0.368729 -0.536522\n",
       "7   0.866648  2.182499\n",
       "8  -0.522822 -0.570511\n",
       "9  -0.206031  0.648060\n",
       "10  1.213100 -0.710189\n",
       "11 -0.761086 -0.422410\n",
       "12  0.164639 -1.004728\n",
       "13  1.169840  1.035104\n",
       "14  0.074590 -1.401222\n",
       "15  0.552037 -0.047192\n",
       "16  0.783914 -1.125556\n",
       "17 -0.184240  0.193157\n",
       "18  0.970510 -0.051371\n",
       "19 -0.367723 -0.021025\n",
       "20 -0.883345  0.116409\n",
       "21  0.992421 -0.792637\n",
       "22  1.426434 -0.679730\n",
       "23 -0.790068 -0.157665\n",
       "24 -1.543924 -0.793718\n",
       "25  0.835844  1.307662\n",
       "26  0.487385  0.544462\n",
       "27  0.404973  1.030814\n",
       "28 -0.224405  0.357701\n",
       "29 -0.447075  1.836367\n",
       "..       ...       ...\n",
       "70  1.338269  1.484710\n",
       "71 -0.883285 -0.141153\n",
       "72 -0.447681 -1.758202\n",
       "73 -1.228454 -0.646145\n",
       "74  0.178335  1.158356\n",
       "75  1.665174 -1.576035\n",
       "76  0.460147 -2.488727\n",
       "77 -0.123505 -0.366446\n",
       "78 -3.887232 -0.489308\n",
       "79 -0.360444  0.832431\n",
       "80 -0.864867 -0.857648\n",
       "81  1.424193  0.708941\n",
       "82 -0.346798 -1.091791\n",
       "83  0.926461 -0.442008\n",
       "84  0.333903 -0.042515\n",
       "85  0.125269 -1.311858\n",
       "86  1.099426 -0.602258\n",
       "87 -1.046655 -2.135608\n",
       "88 -0.807969 -0.389795\n",
       "89 -1.418035  1.539792\n",
       "90 -0.288480  0.749006\n",
       "91  2.043575 -0.269924\n",
       "92 -1.179398 -0.496812\n",
       "93  0.471483 -0.220843\n",
       "94 -0.615731 -0.656167\n",
       "95 -0.641456  0.852312\n",
       "96  0.155349  0.041979\n",
       "97 -0.780068  1.888171\n",
       "98  0.673478 -0.573956\n",
       "99 -0.887921  0.640687\n",
       "\n",
       "[100 rows x 2 columns]"
      ]
     },
     "execution_count": 7,
     "metadata": {},
     "output_type": "execute_result"
    }
   ],
   "source": [
    "df"
   ]
  },
  {
   "cell_type": "code",
   "execution_count": 10,
   "metadata": {},
   "outputs": [
    {
     "data": {
      "text/plain": [
       "array([ 0.33154805,  0.61087702,  0.37280772,  0.16430062,  0.32055341,\n",
       "        0.78054295,  0.59793812,  0.71819783,  0.60655645,  0.07863817,\n",
       "        0.24856861,  0.72289622,  0.83113749,  0.83097412,  0.00238536,\n",
       "        0.24239049,  0.10110951,  0.90110105,  0.11722661,  0.7905132 ,\n",
       "        0.23419997,  0.1418044 ,  0.64367201,  0.04223493,  0.4717505 ,\n",
       "        0.96530716,  0.93529566,  0.63355559,  0.79085357,  0.00876183,\n",
       "        0.84564062,  0.31206604,  0.14575479,  0.45583297,  0.61052447,\n",
       "        0.65446117,  0.18073058,  0.934495  ,  0.92384596,  0.89867522,\n",
       "        0.75511463,  0.88812033,  0.41271355,  0.90124828,  0.81312626,\n",
       "        0.15097639,  0.56955865,  0.16152587,  0.79198413,  0.22668628,\n",
       "        0.80533283,  0.24454383,  0.91311159,  0.67802587,  0.08664223,\n",
       "        0.96222874,  0.83982512,  0.80954589,  0.54148041,  0.07299198,\n",
       "        0.87857954,  0.13720646,  0.39491333,  0.49274505,  0.59749372,\n",
       "        0.93311245,  0.60194483,  0.52511294,  0.27740221,  0.37098989,\n",
       "        0.29116658,  0.84695337,  0.6785312 ,  0.92184287,  0.53614941,\n",
       "        0.31689809,  0.91247848,  0.35431922,  0.76289446,  0.060106  ,\n",
       "        0.46282293,  0.483187  ,  0.59625763,  0.03351137,  0.92709556,\n",
       "        0.94816091,  0.68787349,  0.61737857,  0.77510267,  0.64303841,\n",
       "        0.97547291,  0.3219671 ,  0.71017939,  0.77458949,  0.53825129,\n",
       "        0.67736178,  0.59694622,  0.88546706,  0.51840675,  0.56014542])"
      ]
     },
     "execution_count": 10,
     "metadata": {},
     "output_type": "execute_result"
    }
   ],
   "source": [
    "msk = np.random.rand(len(df)) < 0.8"
   ]
  },
  {
   "cell_type": "code",
   "execution_count": 9,
   "metadata": {},
   "outputs": [
    {
     "data": {
      "text/plain": [
       "array([ True,  True,  True,  True,  True,  True,  True,  True, False,\n",
       "        True,  True,  True,  True,  True,  True,  True,  True,  True,\n",
       "        True,  True,  True, False,  True,  True,  True,  True,  True,\n",
       "        True, False, False,  True,  True, False, False,  True,  True,\n",
       "        True,  True,  True,  True, False,  True,  True,  True,  True,\n",
       "        True,  True,  True,  True,  True,  True, False, False,  True,\n",
       "        True,  True,  True,  True,  True,  True, False,  True,  True,\n",
       "        True,  True,  True, False,  True,  True,  True,  True,  True,\n",
       "       False,  True,  True,  True,  True,  True,  True, False,  True,\n",
       "       False,  True,  True,  True, False,  True,  True, False, False,\n",
       "        True,  True,  True,  True, False,  True,  True,  True,  True,  True], dtype=bool)"
      ]
     },
     "execution_count": 9,
     "metadata": {},
     "output_type": "execute_result"
    }
   ],
   "source": [
    "msk"
   ]
  },
  {
   "cell_type": "code",
   "execution_count": null,
   "metadata": {
    "collapsed": true
   },
   "outputs": [],
   "source": []
  }
 ],
 "metadata": {
  "kernelspec": {
   "display_name": "Python 3",
   "language": "python",
   "name": "python3"
  },
  "language_info": {
   "codemirror_mode": {
    "name": "ipython",
    "version": 3
   },
   "file_extension": ".py",
   "mimetype": "text/x-python",
   "name": "python",
   "nbconvert_exporter": "python",
   "pygments_lexer": "ipython3",
   "version": "3.6.1"
  }
 },
 "nbformat": 4,
 "nbformat_minor": 2
}
